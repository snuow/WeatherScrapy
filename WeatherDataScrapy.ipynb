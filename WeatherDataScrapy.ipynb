{
 "cells": [
  {
   "cell_type": "markdown",
   "metadata": {},
   "source": [
    "# スクレイピングテスト(気象庁)"
   ]
  },
  {
   "cell_type": "markdown",
   "metadata": {},
   "source": [
    "* 最低気温がない場合があるので、np.nanで置き換える。\n",
    "* 最高気温、最低気温の取得は比較的容易であるが、地域・都市が複数ある場合は、都市名で検索し特定の値を取得する必要がある。\n",
    "* 気象庁に問い合わせたところ、商用利用は可能であるが機械的に収集する方法は推奨していない。  \n",
    "ただし、1日1回とかそういうレベルであれば問題はなさそうである。\n",
    "* 更新頻度は、5時、11時、17時の3回は確定であるが、情報が変わり次第随時更新する。\n",
    "* 気象庁＞防災情報＞天気予報のページは301.html～356.htmlまで"
   ]
  },
  {
   "cell_type": "code",
   "execution_count": 1,
   "metadata": {},
   "outputs": [],
   "source": [
    "import urllib.request\n",
    "from bs4 import BeautifulSoup\n",
    "import re\n",
    "import pandas as pd\n",
    "import numpy as np\n",
    "import datetime as dt\n",
    "\n",
    "# 気象庁の予報ページ（例：大阪府）\n",
    "scrapy_target_url = 'http://www.jma.go.jp/jp/yoho/331.html'\n",
    "target_locate = '大阪'\n",
    "# scrapy_target_url = 'http://www.jma.go.jp/jp/yoho/331.html'\n",
    "# target_locate = '大阪'\n",
    "# scrapy_target_url = 'http://www.jma.go.jp/jp/yoho/332.html'\n",
    "# target_locate = '神戸'\n",
    "\n",
    "def get_target_htmlbsdata(targeturl):\n",
    "    '''\n",
    "    Use BeautifulSoup to return an HTML object\n",
    "    BeautifulSoupを使用して、HTMLを取得したオブジェクトを返す\n",
    "\n",
    "    '''\n",
    "\n",
    "    # BeautifulSoupを使用して、HTMLを取得したオブジェクトを返す\n",
    "    html = urllib.request.urlopen(targeturl)\n",
    "    html_data = BeautifulSoup(html, \"html.parser\")\n",
    "    return html_data\n",
    "\n",
    "\n",
    "def rm_escapestring_for_string(target_string):\n",
    "    # 改行コードとタブを取り除く\n",
    "    target_string = re.sub(r'\\n','',target_string)\n",
    "    target_string = re.sub(r'\\t','',target_string)\n",
    "    return target_string\n",
    "\n",
    "\n",
    "def select_records_by_locate(df,locate):\n",
    "    # 必要なLocateのみのデータフレームにする。\n",
    "    df = df[df['Locate'] == locate]\n",
    "    return df"
   ]
  },
  {
   "cell_type": "code",
   "execution_count": 2,
   "metadata": {},
   "outputs": [],
   "source": [
    "# スクレイピング\n",
    "bs_htmldata = get_target_htmlbsdata(scrapy_target_url)\n",
    "maxdata = bs_htmldata.find_all(\"td\",class_=\"max\")\n",
    "mindata = bs_htmldata.find_all(\"td\",class_=\"min\")\n",
    "date_now = dt.datetime.now()"
   ]
  },
  {
   "cell_type": "code",
   "execution_count": 5,
   "metadata": {},
   "outputs": [
    {
     "name": "stdout",
     "output_type": "stream",
     "text": [
      "最低気温：NoData\n"
     ]
    }
   ],
   "source": [
    "# 初期化\n",
    "df = pd.DataFrame(columns=['最高気温','最低気温'])\n",
    "ser_max = np.array([])\n",
    "ser_min = np.array([])\n",
    "ser_locate = np.array([])\n",
    "\n",
    "#最高気温取得\n",
    "for target_item_max in maxdata:\n",
    "    try:\n",
    "        ser_max = np.append(ser_max,float(rm_escapestring_for_string(target_item_max.string).replace('度','')))\n",
    "\n",
    "    except:\n",
    "        print('最高気温欠損')\n",
    "        ser_max = np.append(ser_max,np.nan)\n",
    "\n",
    "# 最低気温取得\n",
    "for target_item_min in mindata:\n",
    "    try:\n",
    "        ser_min = np.append(ser_min,float(rm_escapestring_for_string(target_item_min.string).replace('度','')))\n",
    "    except:\n",
    "        print('最低気温欠損')\n",
    "        ser_min = np.append(ser_min,np.nan)\n",
    "\n",
    "# 各気温情報の都市名を取得\n",
    "for item in bs_htmldata.find_all(\"td\",class_=\"city\"):\n",
    "    ser_locate = np.append(ser_locate,str(item.string))        \n",
    "\n",
    "# データフレームに格納\n",
    "df['最高気温'] = ser_max\n",
    "df['最低気温'] = ser_min\n",
    "df['Locate'] = ser_locate\n",
    "\n",
    "# 都市名によるレコードの選定\n",
    "df = select_records_by_locate(df,target_locate)\n",
    "\n",
    "# 各気温情報に日付indexを付与\n",
    "df.index = [date_now.strftime('%Y/%m/%d'),(date_now+pd.offsets.Day(1)).strftime('%Y/%m/%d')]"
   ]
  },
  {
   "cell_type": "code",
   "execution_count": 6,
   "metadata": {},
   "outputs": [
    {
     "data": {
      "text/html": [
       "<div>\n",
       "<style scoped>\n",
       "    .dataframe tbody tr th:only-of-type {\n",
       "        vertical-align: middle;\n",
       "    }\n",
       "\n",
       "    .dataframe tbody tr th {\n",
       "        vertical-align: top;\n",
       "    }\n",
       "\n",
       "    .dataframe thead th {\n",
       "        text-align: right;\n",
       "    }\n",
       "</style>\n",
       "<table border=\"1\" class=\"dataframe\">\n",
       "  <thead>\n",
       "    <tr style=\"text-align: right;\">\n",
       "      <th></th>\n",
       "      <th>最高気温</th>\n",
       "      <th>最低気温</th>\n",
       "      <th>Locate</th>\n",
       "    </tr>\n",
       "  </thead>\n",
       "  <tbody>\n",
       "    <tr>\n",
       "      <th>2018/08/27</th>\n",
       "      <td>35.0</td>\n",
       "      <td>NaN</td>\n",
       "      <td>大阪</td>\n",
       "    </tr>\n",
       "    <tr>\n",
       "      <th>2018/08/28</th>\n",
       "      <td>34.0</td>\n",
       "      <td>26.0</td>\n",
       "      <td>大阪</td>\n",
       "    </tr>\n",
       "  </tbody>\n",
       "</table>\n",
       "</div>"
      ],
      "text/plain": [
       "            最高気温  最低気温 Locate\n",
       "2018/08/27  35.0   NaN     大阪\n",
       "2018/08/28  34.0  26.0     大阪"
      ]
     },
     "execution_count": 6,
     "metadata": {},
     "output_type": "execute_result"
    }
   ],
   "source": [
    "df"
   ]
  },
  {
   "cell_type": "code",
   "execution_count": null,
   "metadata": {
    "collapsed": true
   },
   "outputs": [],
   "source": []
  }
 ],
 "metadata": {
  "kernelspec": {
   "display_name": "Python 3",
   "language": "python",
   "name": "python3"
  },
  "language_info": {
   "codemirror_mode": {
    "name": "ipython",
    "version": 3
   },
   "file_extension": ".py",
   "mimetype": "text/x-python",
   "name": "python",
   "nbconvert_exporter": "python",
   "pygments_lexer": "ipython3",
   "version": "3.6.6"
  }
 },
 "nbformat": 4,
 "nbformat_minor": 2
}
